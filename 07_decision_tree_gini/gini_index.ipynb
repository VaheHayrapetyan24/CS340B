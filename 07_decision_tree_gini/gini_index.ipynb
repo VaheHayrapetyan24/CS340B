{
 "cells": [
  {
   "cell_type": "code",
   "execution_count": 19,
   "metadata": {
    "id": "V1pV5p1Rbr5w"
   },
   "outputs": [],
   "source": [
    "import numpy as np\n",
    "import matplotlib.pyplot as plt\n",
    "import pprint\n",
    "\n",
    "from anytree import Node, RenderTree\n",
    "from anytree.exporter import DotExporter"
   ]
  },
  {
   "cell_type": "code",
   "execution_count": 20,
   "metadata": {
    "id": "9cxlNTvryMg3"
   },
   "outputs": [],
   "source": [
    "X = np.array(\n",
    "    [['youth', 'high', 'no', 'fair'],\n",
    "    ['youth', 'high', 'no', 'excellent'],\n",
    "    ['middle_aged', 'high', 'no', 'fair'],\n",
    "    ['senior', 'medium', 'no', 'fair'],\n",
    "    ['senior', 'low', 'yes', 'fair'],\n",
    "    ['senior', 'low', 'yes', 'excellent'],\n",
    "    ['middle_aged', 'low', 'yes', 'excellent'],\n",
    "    ['youth', 'medium', 'no', 'fair'],\n",
    "    ['youth', 'low', 'yes', 'fair'],\n",
    "    ['senior', 'medium', 'yes', 'fair'],\n",
    "    ['youth', 'medium', 'yes', 'excellent'],\n",
    "    ['middle_aged', 'medium', 'no', 'excellent'],\n",
    "    ['middle_aged', 'high', 'yes', 'fair'],\n",
    "    ['senior', 'medium', 'no', 'excellent']]\n",
    ")\n",
    "\n",
    "Y = np.array(['no', 'no', 'yes', 'yes', 'yes', 'no', 'yes', 'no', 'yes', 'yes', 'yes', 'yes', 'yes', 'no'])"
   ]
  },
  {
   "cell_type": "code",
   "execution_count": 21,
   "metadata": {
    "id": "RucJOdooc2SQ"
   },
   "outputs": [],
   "source": [
    "def create_node(prop_name, left_value, right_value, left_node, right_node, gini_score, belongs_to_class = None):\n",
    "  return {\n",
    "      'prop_name': prop_name,\n",
    "      'left_value': left_value,\n",
    "      'right_value': right_value,\n",
    "      'left_node': left_node,\n",
    "      'right_node': right_node,\n",
    "      'gini_score': gini_score,\n",
    "      'belongs_to_class': belongs_to_class\n",
    "  }\n",
    "\n",
    "def calculate_gini_index(Y):\n",
    "  classes = np.unique(Y)\n",
    "  result = 1\n",
    "  for c in classes:\n",
    "    p = len(Y[Y == c]) / len(Y)\n",
    "    result -= p**2\n",
    "  return result\n",
    "\n",
    "def split_data(X, Y, node):\n",
    "  chosen_X = None\n",
    "  min_gini = 1\n",
    "  left_X_class = None\n",
    "  right_X_class = None\n",
    "  X_t = X.transpose()\n",
    "  for i in range(len(X_t)):\n",
    "    X_i = X_t[i]\n",
    "    classes = np.unique(X_i)\n",
    "    local_min = 1\n",
    "    local_left_class = None\n",
    "    local_right_class = None\n",
    "\n",
    "    for c in classes:\n",
    "      left_Y = Y[X_i != c]\n",
    "      right_Y = Y[X_i == c]\n",
    "      left_gini = calculate_gini_index(left_Y)\n",
    "      right_gini = calculate_gini_index(right_Y)\n",
    "      local_gini = (len(left_Y) / len(Y)) * left_gini + (len(right_Y) / len(Y)) * right_gini\n",
    "      if local_gini < local_min:\n",
    "        local_min = local_gini\n",
    "        local_left_class = np.unique(X_t[i, X_i != c])\n",
    "        local_right_class = [c]\n",
    "\n",
    "    if local_min < min_gini:\n",
    "      min_gini = local_min\n",
    "      chosen_X = i\n",
    "      left_X_class = local_left_class\n",
    "      right_X_class = local_right_class\n",
    "\n",
    "  # these are for when Y is already clear for some branch\n",
    "  left_class = None\n",
    "  right_class = None\n",
    "  if min_gini == 0:\n",
    "    unique_Y_left = np.unique(Y[np.isin(X_t[chosen_X], left_X_class)])\n",
    "    unique_Y_right = np.unique(Y[np.isin(X_t[chosen_X], right_X_class)])\n",
    "\n",
    "    left_class = unique_Y_left[0] if unique_Y_left.size == 1 else None\n",
    "    right_class = unique_Y_right[0] if unique_Y_right.size == 1 else None\n",
    "\n",
    "\n",
    "  return min_gini, chosen_X, left_X_class, right_X_class, left_class, right_class\n",
    "\n",
    "safeguard = 0\n",
    "def create_tree(X, Y, root = create_node(None, None, None, None, None, None, None)):\n",
    "  global safeguard\n",
    "  safeguard += 1\n",
    "\n",
    "  if root['belongs_to_class'] != None or X.size == 0:\n",
    "    return root\n",
    "\n",
    "  min_gini, chosen_X, left_X_class, right_X_class, left_class, right_class = split_data(X, Y, root)\n",
    "\n",
    "  if left_class != None:\n",
    "    #prune X and Y from left_X_class\n",
    "    mask = np.isin(X[:, chosen_X], left_X_class)\n",
    "    X = X[~mask]\n",
    "    Y = Y[~mask]\n",
    "\n",
    "\n",
    "  if right_class != None:\n",
    "    #prune X and Y from left_X_class\n",
    "    mask = np.isin(X[:, chosen_X], right_X_class)\n",
    "    X = X[~mask]\n",
    "    Y = Y[~mask]\n",
    "\n",
    "\n",
    "  \n",
    "\n",
    "\n",
    "  right_mask = np.isin(X[:, chosen_X], right_X_class)\n",
    "  left_X = X[~right_mask]\n",
    "  right_X = X[right_mask]\n",
    "  left_Y = Y[~right_mask]\n",
    "  right_Y = Y[right_mask]\n",
    "\n",
    "  # if chosen_X != None:\n",
    "  left_X = np.delete(left_X, chosen_X, 1)\n",
    "  right_X = np.delete(right_X, chosen_X, 1)\n",
    "\n",
    "  left_node = create_node(None, None, None, None, None, None, left_class)\n",
    "  right_node = create_node(None, None, None, None, None, None, right_class)\n",
    "\n",
    "\n",
    "\n",
    "  root['left_node'] = create_tree(left_X, left_Y, left_node)\n",
    "  root['right_node'] = create_tree(right_X, right_Y, right_node)\n",
    "  root['gini_score'] = min_gini\n",
    "  # root['chosen_X'] = chosen_X\n",
    "  root['left_X_class'] = left_X_class\n",
    "  root['right_X_class'] = right_X_class\n",
    "\n",
    "\n",
    "  return root"
   ]
  },
  {
   "cell_type": "code",
   "execution_count": 22,
   "metadata": {
    "colab": {
     "base_uri": "https://localhost:8080/"
    },
    "id": "FLWNT4EVyKZ3",
    "outputId": "a53b536e-6c27-4298-eeb0-f7391cae2f21"
   },
   "outputs": [],
   "source": [
    "root =  create_tree(X, Y)"
   ]
  },
  {
   "cell_type": "code",
   "execution_count": 24,
   "metadata": {
    "colab": {
     "base_uri": "https://localhost:8080/"
    },
    "id": "r8eZzT_D6CXN",
    "outputId": "4f0e7c59-f034-471a-a81e-b727e77abed6"
   },
   "outputs": [
    {
     "name": "stdout",
     "output_type": "stream",
     "text": [
      "Node('/1', edgeattr=None)\n",
      "├── Node('/1/2', edgeattr={'label': \"['senior' 'youth']\"})\n",
      "│   ├── Node('/1/2/3', edgeattr={'label': \"['yes']\"})\n",
      "│   │   ├── Node('/1/2/3/4', edgeattr={'label': \"['fair']\"})\n",
      "│   │   │   ├── Node('/1/2/3/4/5', edgeattr={'label': \"['medium']\"})\n",
      "│   │   │   └── Node('/1/2/3/4/6', edgeattr={'label': \"[np.str_('low')]\"})\n",
      "│   │   └── Node('/1/2/3/7', edgeattr={'label': \"[np.str_('excellent')]\"})\n",
      "│   │       ├── Node('/1/2/3/7/8', edgeattr={'label': \"['medium']\"})\n",
      "│   │       └── Node('/1/2/3/7/9', edgeattr={'label': \"[np.str_('low')]\"})\n",
      "│   └── Node('/1/2/10', edgeattr={'label': \"[np.str_('no')]\"})\n",
      "│       ├── Node('/1/2/10/11', edgeattr={'label': \"['medium']\"})\n",
      "│       │   ├── Node('/1/2/10/11/12', edgeattr={'label': \"['fair']\"})\n",
      "│       │   └── Node('/1/2/10/11/13', edgeattr={'label': \"[np.str_('excellent')]\"})\n",
      "│       └── Node('/1/2/10/14', edgeattr={'label': \"[np.str_('high')]\"})\n",
      "│           ├── Node('/1/2/10/14/15', edgeattr={'label': \"['fair']\"})\n",
      "│           └── Node('/1/2/10/14/16', edgeattr={'label': \"[np.str_('excellent')]\"})\n",
      "└── Node('/1/17', edgeattr={'label': \"[np.str_('middle_aged')]\"})\n",
      "    ├── Node('/1/17/18', edgeattr={'label': \"['low' 'medium']\"})\n",
      "    └── Node('/1/17/19', edgeattr={'label': \"[np.str_('high')]\"})\n"
     ]
    },
    {
     "data": {
      "text/plain": [
       "0"
      ]
     },
     "execution_count": 24,
     "metadata": {},
     "output_type": "execute_result"
    }
   ],
   "source": [
    "i = 0\n",
    "def create_tree_nodes(data, parent_node=None, edge_label=None):\n",
    "    \"\"\"Recursively creates anytree Nodes from nested dictionary.\"\"\"\n",
    "    if data is None:\n",
    "        return None\n",
    "    global i\n",
    "    i += 1\n",
    "    node = Node(i, parent=parent_node,\n",
    "                  edgeattr={'label': str(edge_label)} if edge_label is not None else None)\n",
    "\n",
    "    # Create nodes for left and right subtrees, specifying edge labels\n",
    "    create_tree_nodes(data.get('left_node'), parent_node=node, edge_label=data.get('left_X_class'))  \n",
    "    create_tree_nodes(data.get('right_node'), parent_node=node, edge_label=data.get('right_X_class'))\n",
    "\n",
    "    return node\n",
    "\n",
    "# Assuming 'root' is your nested dictionary object\n",
    "root_node = create_tree_nodes(root)\n",
    "\n",
    "# Print the tree to the console\n",
    "print(RenderTree(root_node))\n",
    "\n",
    "# Export to a Graphviz dot file and then to a PNG image\n",
    "# dot_exporter = DotExporter(root_node)\n",
    "# dot_exporter.to_picture(r\"C:\\Users\\vaheh\\aua\\Fall_2024\\ML\\code\\CS340B\\tree_visualization.png\")\n",
    "\n",
    "\n",
    "dot_path = \"tree_visualization.dot\"\n",
    "DotExporter(\n",
    "    root_node,\n",
    "    nodenamefunc=lambda node: node.name,\n",
    "    edgeattrfunc=lambda parent, child: 'label=\"%s\"' % (child.edgeattr.get('label') if child.edgeattr is not None else '')\n",
    ").to_dotfile(dot_path)\n",
    "\n",
    "png_path = \"tree_visualization.png\"\n",
    "subprocess.check_call([\"dot\", dot_path, \"-T\", \"png\", \"-o\", png_path])"
   ]
  }
 ],
 "metadata": {
  "colab": {
   "provenance": []
  },
  "kernelspec": {
   "display_name": "Python 3 (ipykernel)",
   "language": "python",
   "name": "python3"
  },
  "language_info": {
   "codemirror_mode": {
    "name": "ipython",
    "version": 3
   },
   "file_extension": ".py",
   "mimetype": "text/x-python",
   "name": "python",
   "nbconvert_exporter": "python",
   "pygments_lexer": "ipython3",
   "version": "3.12.5"
  }
 },
 "nbformat": 4,
 "nbformat_minor": 4
}
