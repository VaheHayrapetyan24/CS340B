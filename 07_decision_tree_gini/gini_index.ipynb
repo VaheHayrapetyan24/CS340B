{
 "cells": [
  {
   "cell_type": "code",
   "execution_count": 5,
   "metadata": {
    "id": "V1pV5p1Rbr5w"
   },
   "outputs": [],
   "source": [
    "import numpy as np\n",
    "import subprocess\n",
    "import pprint\n",
    "import pandas as pd\n",
    "\n",
    "from anytree import Node, RenderTree\n",
    "from anytree.exporter import DotExporter"
   ]
  },
  {
   "cell_type": "code",
   "execution_count": 20,
   "metadata": {
    "id": "9cxlNTvryMg3"
   },
   "outputs": [],
   "source": [
    "X = np.array(\n",
    "    [['youth', 'high', 'no', 'fair'],\n",
    "    ['youth', 'high', 'no', 'excellent'],\n",
    "    ['middle_aged', 'high', 'no', 'fair'],\n",
    "    ['senior', 'medium', 'no', 'fair'],\n",
    "    ['senior', 'low', 'yes', 'fair'],\n",
    "    ['senior', 'low', 'yes', 'excellent'],\n",
    "    ['middle_aged', 'low', 'yes', 'excellent'],\n",
    "    ['youth', 'medium', 'no', 'fair'],\n",
    "    ['youth', 'low', 'yes', 'fair'],\n",
    "    ['senior', 'medium', 'yes', 'fair'],\n",
    "    ['youth', 'medium', 'yes', 'excellent'],\n",
    "    ['middle_aged', 'medium', 'no', 'excellent'],\n",
    "    ['middle_aged', 'high', 'yes', 'fair'],\n",
    "    ['senior', 'medium', 'no', 'excellent']]\n",
    ")\n",
    "\n",
    "Y = np.array(['no', 'no', 'yes', 'yes', 'yes', 'no', 'yes', 'no', 'yes', 'yes', 'yes', 'yes', 'yes', 'no'])\n",
    "\n",
    "X_learn = X[:-4]\n",
    "Y_learn = Y[:-4]\n",
    "\n",
    "\n",
    "X_test = X[-4:]\n",
    "Y_test = Y[-4:]\n",
    "\n",
    "column_labels = ['age', 'income', 'student', 'credit_rating']\n",
    "df = pd.DataFrame(X_learn, columns=column_labels)"
   ]
  },
  {
   "cell_type": "code",
   "execution_count": 32,
   "metadata": {
    "id": "RucJOdooc2SQ"
   },
   "outputs": [],
   "source": [
    "def create_node(\n",
    "    prop_name = None,\n",
    "    left_value = None,\n",
    "    right_value = None,\n",
    "    left_node = None,\n",
    "    right_node = None,\n",
    "    gini_score = None,\n",
    "    information_gain = None,\n",
    "    belongs_to_class = None):\n",
    "  return {\n",
    "      'prop_name': prop_name,\n",
    "      'left_value': left_value,\n",
    "      'right_value': right_value,\n",
    "      'left_node': left_node,\n",
    "      'right_node': right_node,\n",
    "      'gini_score': gini_score,\n",
    "      'information_gain': information_gain,\n",
    "      'belongs_to_class': belongs_to_class\n",
    "  }\n",
    "\n",
    "def calculate_gini_index(Y):\n",
    "  classes = np.unique(Y)\n",
    "  result = 1\n",
    "  for c in classes:\n",
    "    p = Y[Y == c].size / Y.size\n",
    "    result -= p**2\n",
    "  return result\n",
    "\n",
    "def calculate_entropy(Y):\n",
    "    entropy = 0\n",
    "    y_classes = np.unique(Y)\n",
    "    for y_class in y_classes:\n",
    "        amount = Y[Y == y_class].size\n",
    "        entropy -= np.log2(amount/Y.size)*amount/Y.size\n",
    "    return entropy\n",
    "    \n",
    "\n",
    "def calculate_information_gain(X, Y):\n",
    "    info_gain = calculate_entropy(Y)\n",
    "    for x_class in np.unique(X):\n",
    "        filtered_Y = Y[X == x_class]\n",
    "        class_entropy = calculate_entropy(filtered_Y)\n",
    "        info_gain -= class_entropy * filtered_Y.size/Y.size\n",
    "    return info_gain\n",
    "        \n",
    "\n",
    "def split_data(X, Y, node):\n",
    "    chosen_X = None\n",
    "    min_gini = 1\n",
    "    information_gain = None\n",
    "    left_X_class = None\n",
    "    right_X_class = None\n",
    "    for column in X.columns:\n",
    "        X_i = X[column]\n",
    "        classes = np.unique(X_i)\n",
    "\n",
    "        local_min = 1\n",
    "        local_left_class = None\n",
    "        local_right_class = None\n",
    "\n",
    "        for c in classes:\n",
    "            left_Y = Y[X_i != c]\n",
    "            right_Y = Y[X_i == c]\n",
    "            left_gini = calculate_gini_index(left_Y)\n",
    "            right_gini = calculate_gini_index(right_Y)\n",
    "            local_gini = (left_Y.size / Y.size) * left_gini + (right_Y.size / Y.size) * right_gini\n",
    "            if local_gini < local_min:\n",
    "                local_min = local_gini\n",
    "                local_left_class = np.unique(X[X[column] != c][column])\n",
    "                local_right_class = [c]\n",
    "\n",
    "        if local_min < min_gini:\n",
    "          min_gini = local_min\n",
    "          chosen_X = column\n",
    "          information_gain = calculate_information_gain(X_i, Y)\n",
    "          left_X_class = local_left_class\n",
    "          right_X_class = local_right_class\n",
    "\n",
    "    # these are for when Y is already clear for some branch\n",
    "    left_class = None\n",
    "    right_class = None\n",
    "\n",
    "\n",
    "    unique_Y_left = np.unique(Y[np.isin(X[chosen_X], left_X_class)])\n",
    "    unique_Y_right = np.unique(Y[np.isin(X[chosen_X], right_X_class)])\n",
    "\n",
    "    left_class = unique_Y_left[0] if unique_Y_left.size == 1 else None\n",
    "    right_class = unique_Y_right[0] if unique_Y_right.size == 1 else None\n",
    "\n",
    "\n",
    "    return min_gini, chosen_X, left_X_class, right_X_class, left_class, right_class, information_gain\n",
    "\n",
    "def create_tree(X, Y, root = create_node()):\n",
    "    if root['belongs_to_class'] != None or X.size == 0:\n",
    "        return root\n",
    "\n",
    "    min_gini, chosen_X, left_X_class, right_X_class, left_class, right_class, information_gain = split_data(X, Y, root)\n",
    "\n",
    "    if left_class != None:\n",
    "        mask = np.isin(X[chosen_X], left_X_class)\n",
    "        X = X[~mask]\n",
    "        Y = Y[~mask]\n",
    "\n",
    "\n",
    "    if right_class != None:\n",
    "        mask = np.isin(X[chosen_X], right_X_class)\n",
    "        X = X[~mask]\n",
    "        Y = Y[~mask]\n",
    "\n",
    "    right_mask = np.isin(X[chosen_X], right_X_class)\n",
    "    left_X = X[~right_mask]\n",
    "    right_X = X[right_mask]\n",
    "    left_Y = Y[~right_mask]\n",
    "    right_Y = Y[right_mask]\n",
    "\n",
    "    left_node = create_node(\n",
    "        gini_score = \"{:.2f}\".format(min_gini),\n",
    "        information_gain = \"{:.2f}\".format(information_gain),\n",
    "        belongs_to_class = left_class)\n",
    "    right_node = create_node(\n",
    "        gini_score = \"{:.2f}\".format(min_gini),\n",
    "        information_gain = \"{:.2f}\".format(information_gain),\n",
    "        belongs_to_class = right_class\n",
    "    )\n",
    "\n",
    "    root['left_node'] = create_tree(left_X, left_Y, left_node)\n",
    "    root['right_node'] = create_tree(right_X, right_Y, right_node)\n",
    "    # root['gini_score'] = \"{:.2f}\".format(min_gini)\n",
    "    # root['information_gain'] = \"{:.2f}\".format(information_gain)\n",
    "    root['prop_name'] = chosen_X\n",
    "    root['left_X_class'] = left_X_class\n",
    "    root['right_X_class'] = right_X_class\n",
    "\n",
    "\n",
    "    return root"
   ]
  },
  {
   "cell_type": "code",
   "execution_count": 34,
   "metadata": {
    "id": "FLWNT4EVyKZ3"
   },
   "outputs": [],
   "source": [
    "root = create_tree(df, Y_learn)"
   ]
  },
  {
   "cell_type": "code",
   "execution_count": 35,
   "metadata": {
    "colab": {
     "base_uri": "https://localhost:8080/"
    },
    "id": "r8eZzT_D6CXN",
    "outputId": "1204feb9-8207-4d2b-e188-5fd1ea33d3ac"
   },
   "outputs": [
    {
     "name": "stdout",
     "output_type": "stream",
     "text": [
      "Node('/age 1 GI:None IG:None', edgeattr=None)\n",
      "├── Node('/age 1 GI:None IG:None/credit_rating 2 GI:0.32 IG:0.32', edgeattr={'label': \"['middle_aged' 'senior']\"})\n",
      "│   ├── Node('/age 1 GI:None IG:None/credit_rating 2 GI:0.32 IG:0.32/yes 3 GI:0.17 IG:0.32', edgeattr={'label': \"['fair']\"})\n",
      "│   └── Node('/age 1 GI:None IG:None/credit_rating 2 GI:0.32 IG:0.32/age 4 GI:0.17 IG:0.32', edgeattr={'label': \"['excellent']\"})\n",
      "│       ├── Node('/age 1 GI:None IG:None/credit_rating 2 GI:0.32 IG:0.32/age 4 GI:0.17 IG:0.32/no 5 GI:0.00 IG:1.00', edgeattr={'label': \"['senior']\"})\n",
      "│       └── Node('/age 1 GI:None IG:None/credit_rating 2 GI:0.32 IG:0.32/age 4 GI:0.17 IG:0.32/yes 6 GI:0.00 IG:1.00', edgeattr={'label': \"['middle_aged']\"})\n",
      "└── Node('/age 1 GI:None IG:None/income 7 GI:0.32 IG:0.32', edgeattr={'label': \"['youth']\"})\n",
      "    ├── Node('/age 1 GI:None IG:None/income 7 GI:0.32 IG:0.32/no 8 GI:0.00 IG:0.81', edgeattr={'label': \"['high' 'medium']\"})\n",
      "    └── Node('/age 1 GI:None IG:None/income 7 GI:0.32 IG:0.32/yes 9 GI:0.00 IG:0.81', edgeattr={'label': \"['low']\"})\n"
     ]
    },
    {
     "data": {
      "text/plain": [
       "0"
      ]
     },
     "execution_count": 35,
     "metadata": {},
     "output_type": "execute_result"
    }
   ],
   "source": [
    "i = 0\n",
    "def create_tree_nodes(data, parent_node=None, edge_label=None):\n",
    "    if data is None:\n",
    "        return None\n",
    "    global i\n",
    "    i += 1\n",
    "    if data.get('belongs_to_class') is not None:\n",
    "        prop_name = data['belongs_to_class']\n",
    "    else:\n",
    "        prop_name = data.get('prop_name', 'not defined')\n",
    "\n",
    "    node = Node(f'{str(prop_name)} {str(i)} GI:{data.get('gini_score', 'N/A')} IG:{data.get('information_gain', 'N/A')}', parent=parent_node,\n",
    "                  edgeattr={'label': str(edge_label)} if edge_label is not None else None)\n",
    "\n",
    "    create_tree_nodes(data.get('left_node'), parent_node=node, edge_label=data.get('left_X_class'))\n",
    "    create_tree_nodes(data.get('right_node'), parent_node=node, edge_label=data.get('right_X_class'))\n",
    "\n",
    "    return node\n",
    "\n",
    "root_node = create_tree_nodes(root)\n",
    "\n",
    "print(RenderTree(root_node))\n",
    "\n",
    "dot_path = \"tree_visualization.dot\"\n",
    "DotExporter(\n",
    "    root_node,\n",
    "    nodenamefunc=lambda node: node.name,\n",
    "    edgeattrfunc=lambda parent, child: 'label=\"%s\"' % (child.edgeattr.get('label') if child.edgeattr is not None else '')\n",
    ").to_dotfile(dot_path)\n",
    "\n",
    "png_path = \"tree_visualization.png\"\n",
    "subprocess.check_call([\"dot\", dot_path, \"-T\", \"png\", \"-o\", png_path])"
   ]
  },
  {
   "cell_type": "code",
   "execution_count": 36,
   "metadata": {
    "id": "le8aAUVQv4Pt"
   },
   "outputs": [],
   "source": [
    "def predict(root, X_frame):\n",
    "  if root['belongs_to_class'] != None:\n",
    "      return root['belongs_to_class']\n",
    "\n",
    "  if X_frame[root['prop_name']] in root['left_X_class']:\n",
    "      return predict(root['left_node'], X_frame)\n",
    "  else:\n",
    "      return predict(root['right_node'], X_frame)"
   ]
  },
  {
   "cell_type": "code",
   "execution_count": 37,
   "metadata": {
    "colab": {
     "base_uri": "https://localhost:8080/"
    },
    "id": "08gUQzd8w9ka",
    "outputId": "85e4b769-52b0-4445-d7a1-f50533c14560"
   },
   "outputs": [
    {
     "name": "stdout",
     "output_type": "stream",
     "text": [
      "[np.str_('no'), np.str_('yes'), np.str_('yes'), np.str_('no')]\n",
      "['yes' 'yes' 'yes' 'no']\n",
      "accuracy 0.75\n"
     ]
    }
   ],
   "source": [
    "Y_predict = [predict(root, x[1]) for x in pd.DataFrame(X_test, columns=column_labels).iterrows()]\n",
    "\n",
    "print(Y_predict)\n",
    "print(Y_test)\n",
    "print(\"accuracy\", (Y_predict == Y_test).sum() / Y_test.size)"
   ]
  },
  {
   "cell_type": "code",
   "execution_count": 40,
   "metadata": {
    "id": "vE0wcZTjulKO"
   },
   "outputs": [
    {
     "name": "stdout",
     "output_type": "stream",
     "text": [
      "0.37610938183144177\n"
     ]
    }
   ],
   "source": [
    "# this is just for testing that info gain is calculated correctly\n",
    "\n",
    "data = [\n",
    "    ['Sunny', 'Hot', 'High', 'Weak'],\n",
    "    ['Sunny', 'Warm', 'Normal', 'Weak'],\n",
    "    ['Overcast', 'Cold', 'Normal', 'Strong'],\n",
    "    ['Sunny', 'Warm', 'Normal', 'Strong'],\n",
    "    ['Rainy', 'Warm', 'High', 'Weak'],\n",
    "    ['Overcast', 'Hot', 'Normal', 'Strong'],\n",
    "    ['Rainy', 'Warm', 'High', 'Strong'],\n",
    "    ['Sunny', 'Cold', 'High', 'Weak'],\n",
    "    ['Rainy', 'Cold', 'High', 'Weak'],\n",
    "    ['Overcast', 'Hot', 'Normal', 'Strong'],\n",
    "    ['Rainy', 'Cold', 'Normal', 'Weak'],\n",
    "    ['Sunny', 'Hot', 'High', 'Weak']\n",
    "]\n",
    "\n",
    "data_y = np.array(['No', 'Yes', 'Yes', 'No', 'Yes', 'No', 'No', 'Yes', 'Yes', 'Yes', 'Yes', 'No'])\n",
    "\n",
    "columns = ['Outlook', 'Temperature', 'Humidity', 'Wind']\n",
    "\n",
    "test_df = pd.DataFrame(data, columns=columns)\n",
    "\n",
    "print(calculate_information_gain(test_df['Temperature'], data_y))"
   ]
  }
 ],
 "metadata": {
  "colab": {
   "provenance": []
  },
  "kernelspec": {
   "display_name": "Python 3 (ipykernel)",
   "language": "python",
   "name": "python3"
  },
  "language_info": {
   "codemirror_mode": {
    "name": "ipython",
    "version": 3
   },
   "file_extension": ".py",
   "mimetype": "text/x-python",
   "name": "python",
   "nbconvert_exporter": "python",
   "pygments_lexer": "ipython3",
   "version": "3.12.5"
  }
 },
 "nbformat": 4,
 "nbformat_minor": 4
}
