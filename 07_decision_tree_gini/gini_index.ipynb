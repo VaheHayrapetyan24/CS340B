{
  "cells": [
    {
      "cell_type": "code",
      "source": [
        "!pip install anytree"
      ],
      "metadata": {
        "colab": {
          "base_uri": "https://localhost:8080/"
        },
        "id": "Av9j8RMnvLnM",
        "outputId": "642f542b-c513-4795-8cf0-4fbe822b1ca3"
      },
      "execution_count": 10,
      "outputs": [
        {
          "output_type": "stream",
          "name": "stdout",
          "text": [
            "Requirement already satisfied: anytree in /usr/local/lib/python3.10/dist-packages (2.12.1)\n",
            "Requirement already satisfied: six in /usr/local/lib/python3.10/dist-packages (from anytree) (1.16.0)\n"
          ]
        }
      ]
    },
    {
      "cell_type": "code",
      "execution_count": 23,
      "metadata": {
        "id": "V1pV5p1Rbr5w"
      },
      "outputs": [],
      "source": [
        "import numpy as np\n",
        "import subprocess\n",
        "import pprint\n",
        "import pandas as pd\n",
        "\n",
        "from anytree import Node, RenderTree\n",
        "from anytree.exporter import DotExporter"
      ]
    },
    {
      "cell_type": "code",
      "execution_count": 24,
      "metadata": {
        "id": "9cxlNTvryMg3"
      },
      "outputs": [],
      "source": [
        "X = np.array(\n",
        "    [['youth', 'high', 'no', 'fair'],\n",
        "    ['youth', 'high', 'no', 'excellent'],\n",
        "    ['middle_aged', 'high', 'no', 'fair'],\n",
        "    ['senior', 'medium', 'no', 'fair'],\n",
        "    ['senior', 'low', 'yes', 'fair'],\n",
        "    ['senior', 'low', 'yes', 'excellent'],\n",
        "    ['middle_aged', 'low', 'yes', 'excellent'],\n",
        "    ['youth', 'medium', 'no', 'fair'],\n",
        "    ['youth', 'low', 'yes', 'fair'],\n",
        "    ['senior', 'medium', 'yes', 'fair'],\n",
        "    ['youth', 'medium', 'yes', 'excellent'],\n",
        "    ['middle_aged', 'medium', 'no', 'excellent'],\n",
        "    ['middle_aged', 'high', 'yes', 'fair'],\n",
        "    ['senior', 'medium', 'no', 'excellent']]\n",
        ")\n",
        "\n",
        "Y = np.array(['no', 'no', 'yes', 'yes', 'yes', 'no', 'yes', 'no', 'yes', 'yes', 'yes', 'yes', 'yes', 'no'])\n",
        "\n",
        "X_learn = X[:-4]\n",
        "Y_learn = Y[:-4]\n",
        "\n",
        "\n",
        "X_test = X[-4:]\n",
        "Y_test = Y[-4:]\n",
        "\n",
        "column_labels = ['age', 'income', 'student', 'credit_rating']\n",
        "df = pd.DataFrame(X_learn, columns=column_labels)"
      ]
    },
    {
      "cell_type": "code",
      "execution_count": 25,
      "metadata": {
        "id": "RucJOdooc2SQ"
      },
      "outputs": [],
      "source": [
        "def create_node(prop_name, left_value, right_value, left_node, right_node, gini_score, belongs_to_class = None):\n",
        "  return {\n",
        "      'prop_name': prop_name,\n",
        "      'left_value': left_value,\n",
        "      'right_value': right_value,\n",
        "      'left_node': left_node,\n",
        "      'right_node': right_node,\n",
        "      'gini_score': gini_score,\n",
        "      'belongs_to_class': belongs_to_class\n",
        "  }\n",
        "\n",
        "def calculate_gini_index(Y):\n",
        "  classes = np.unique(Y)\n",
        "  result = 1\n",
        "  for c in classes:\n",
        "    p = Y[Y == c].size / Y.size\n",
        "    result -= p**2\n",
        "  return result\n",
        "\n",
        "def split_data(X, Y, node):\n",
        "    chosen_X = None\n",
        "    min_gini = 1\n",
        "    left_X_class = None\n",
        "    right_X_class = None\n",
        "    for column in X.columns:\n",
        "        X_i = X[column]\n",
        "        classes = np.unique(X_i)\n",
        "\n",
        "        local_min = 1\n",
        "        local_left_class = None\n",
        "        local_right_class = None\n",
        "\n",
        "        for c in classes:\n",
        "            left_Y = Y[X_i != c]\n",
        "            right_Y = Y[X_i == c]\n",
        "            left_gini = calculate_gini_index(left_Y)\n",
        "            right_gini = calculate_gini_index(right_Y)\n",
        "            local_gini = (left_Y.size / Y.size) * left_gini + (right_Y.size / Y.size) * right_gini\n",
        "            if local_gini < local_min:\n",
        "                local_min = local_gini\n",
        "                local_left_class = np.unique(X[X[column] != c][column])\n",
        "                local_right_class = [c]\n",
        "\n",
        "        if local_min < min_gini:\n",
        "          min_gini = local_min\n",
        "          chosen_X = column\n",
        "          left_X_class = local_left_class\n",
        "          right_X_class = local_right_class\n",
        "\n",
        "    # these are for when Y is already clear for some branch\n",
        "    left_class = None\n",
        "    right_class = None\n",
        "\n",
        "\n",
        "    unique_Y_left = np.unique(Y[np.isin(X[chosen_X], left_X_class)])\n",
        "    unique_Y_right = np.unique(Y[np.isin(X[chosen_X], right_X_class)])\n",
        "\n",
        "    left_class = unique_Y_left[0] if unique_Y_left.size == 1 else None\n",
        "    right_class = unique_Y_right[0] if unique_Y_right.size == 1 else None\n",
        "\n",
        "\n",
        "    return min_gini, chosen_X, left_X_class, right_X_class, left_class, right_class\n",
        "\n",
        "def create_tree(X, Y, root = create_node(None, None, None, None, None, None, None)):\n",
        "    if root['belongs_to_class'] != None or X.size == 0:\n",
        "        return root\n",
        "\n",
        "    min_gini, chosen_X, left_X_class, right_X_class, left_class, right_class = split_data(X, Y, root)\n",
        "\n",
        "    if left_class != None:\n",
        "        mask = np.isin(X[chosen_X], left_X_class)\n",
        "        X = X[~mask]\n",
        "        Y = Y[~mask]\n",
        "\n",
        "\n",
        "    if right_class != None:\n",
        "        mask = np.isin(X[chosen_X], right_X_class)\n",
        "        X = X[~mask]\n",
        "        Y = Y[~mask]\n",
        "\n",
        "    right_mask = np.isin(X[chosen_X], right_X_class)\n",
        "    left_X = X[~right_mask]\n",
        "    right_X = X[right_mask]\n",
        "    left_Y = Y[~right_mask]\n",
        "    right_Y = Y[right_mask]\n",
        "\n",
        "    # left_X = left_X.drop(columns=[chosen_X])\n",
        "    # right_X = right_X.drop(columns=[chosen_X])\n",
        "\n",
        "    left_node = create_node(None, None, None, None, None, None, left_class)\n",
        "    right_node = create_node(None, None, None, None, None, None, right_class)\n",
        "\n",
        "    root['left_node'] = create_tree(left_X, left_Y, left_node)\n",
        "    root['right_node'] = create_tree(right_X, right_Y, right_node)\n",
        "    root['gini_score'] = min_gini\n",
        "    root['prop_name'] = chosen_X\n",
        "    root['left_X_class'] = left_X_class\n",
        "    root['right_X_class'] = right_X_class\n",
        "\n",
        "\n",
        "    return root"
      ]
    },
    {
      "cell_type": "code",
      "execution_count": 26,
      "metadata": {
        "colab": {
          "base_uri": "https://localhost:8080/"
        },
        "id": "r8eZzT_D6CXN",
        "outputId": "1204feb9-8207-4d2b-e188-5fd1ea33d3ac"
      },
      "outputs": [
        {
          "output_type": "stream",
          "name": "stdout",
          "text": [
            "Node('/age 1', edgeattr=None)\n",
            "├── Node('/age 1/credit_rating 2', edgeattr={'label': \"['middle_aged' 'senior']\"})\n",
            "│   ├── Node('/age 1/credit_rating 2/yes 3', edgeattr={'label': \"['fair']\"})\n",
            "│   └── Node('/age 1/credit_rating 2/age 4', edgeattr={'label': \"['excellent']\"})\n",
            "│       ├── Node('/age 1/credit_rating 2/age 4/no 5', edgeattr={'label': \"['senior']\"})\n",
            "│       └── Node('/age 1/credit_rating 2/age 4/yes 6', edgeattr={'label': \"['middle_aged']\"})\n",
            "└── Node('/age 1/income 7', edgeattr={'label': \"['youth']\"})\n",
            "    ├── Node('/age 1/income 7/no 8', edgeattr={'label': \"['high' 'medium']\"})\n",
            "    └── Node('/age 1/income 7/yes 9', edgeattr={'label': \"['low']\"})\n"
          ]
        },
        {
          "output_type": "execute_result",
          "data": {
            "text/plain": [
              "0"
            ]
          },
          "metadata": {},
          "execution_count": 26
        }
      ],
      "source": [
        "i = 0\n",
        "def create_tree_nodes(data, parent_node=None, edge_label=None):\n",
        "    \"\"\"Recursively creates anytree Nodes from nested dictionary.\"\"\"\n",
        "    if data is None:\n",
        "        return None\n",
        "    global i\n",
        "    i += 1\n",
        "    if data.get('belongs_to_class') is not None:\n",
        "        prop_name = data['belongs_to_class']\n",
        "    else:\n",
        "        prop_name = data.get('prop_name', 'not defined')\n",
        "\n",
        "    node = Node(str(prop_name) + \" \" + str(i), parent=parent_node,\n",
        "                  edgeattr={'label': str(edge_label)} if edge_label is not None else None)\n",
        "\n",
        "    create_tree_nodes(data.get('left_node'), parent_node=node, edge_label=data.get('left_X_class'))\n",
        "    create_tree_nodes(data.get('right_node'), parent_node=node, edge_label=data.get('right_X_class'))\n",
        "\n",
        "    return node\n",
        "\n",
        "root_node = create_tree_nodes(root)\n",
        "\n",
        "print(RenderTree(root_node))\n",
        "\n",
        "dot_path = \"tree_visualization.dot\"\n",
        "DotExporter(\n",
        "    root_node,\n",
        "    nodenamefunc=lambda node: node.name,\n",
        "    edgeattrfunc=lambda parent, child: 'label=\"%s\"' % (child.edgeattr.get('label') if child.edgeattr is not None else '')\n",
        ").to_dotfile(dot_path)\n",
        "\n",
        "png_path = \"tree_visualization.png\"\n",
        "subprocess.check_call([\"dot\", dot_path, \"-T\", \"png\", \"-o\", png_path])"
      ]
    },
    {
      "cell_type": "code",
      "execution_count": 27,
      "metadata": {
        "id": "FLWNT4EVyKZ3"
      },
      "outputs": [],
      "source": [
        "root = create_tree(df, Y_learn)"
      ]
    },
    {
      "cell_type": "code",
      "source": [
        "def predict(root, X_frame):\n",
        "  if root['belongs_to_class'] != None:\n",
        "      return root['belongs_to_class']\n",
        "\n",
        "  if X_frame[root['prop_name']] in root['left_X_class']:\n",
        "      return predict(root['left_node'], X_frame)\n",
        "  else:\n",
        "      return predict(root['right_node'], X_frame)"
      ],
      "metadata": {
        "id": "le8aAUVQv4Pt"
      },
      "execution_count": 30,
      "outputs": []
    },
    {
      "cell_type": "code",
      "source": [
        "Y_predict = [predict(root, x[1]) for x in pd.DataFrame(X_test, columns=column_labels).iterrows()]\n",
        "\n",
        "print(Y_predict)\n",
        "print(Y_test)\n",
        "print(\"accuracy\", (Y_predict == Y_test).sum() / Y_test.size)"
      ],
      "metadata": {
        "colab": {
          "base_uri": "https://localhost:8080/"
        },
        "id": "08gUQzd8w9ka",
        "outputId": "85e4b769-52b0-4445-d7a1-f50533c14560"
      },
      "execution_count": 32,
      "outputs": [
        {
          "output_type": "stream",
          "name": "stdout",
          "text": [
            "['no', 'yes', 'yes', 'no']\n",
            "['yes' 'yes' 'yes' 'no']\n",
            "accuracy 0.75\n"
          ]
        }
      ]
    },
    {
      "cell_type": "code",
      "execution_count": 29,
      "metadata": {
        "id": "vE0wcZTjulKO"
      },
      "outputs": [],
      "source": []
    }
  ],
  "metadata": {
    "colab": {
      "provenance": []
    },
    "kernelspec": {
      "display_name": "Python 3 (ipykernel)",
      "language": "python",
      "name": "python3"
    },
    "language_info": {
      "codemirror_mode": {
        "name": "ipython",
        "version": 3
      },
      "file_extension": ".py",
      "mimetype": "text/x-python",
      "name": "python",
      "nbconvert_exporter": "python",
      "pygments_lexer": "ipython3",
      "version": "3.12.5"
    }
  },
  "nbformat": 4,
  "nbformat_minor": 0
}