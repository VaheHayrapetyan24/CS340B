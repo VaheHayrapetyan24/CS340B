{
 "cells": [
  {
   "cell_type": "code",
   "execution_count": 37,
   "id": "ac5ae985-ce18-49ba-a026-ff3a87767de8",
   "metadata": {},
   "outputs": [],
   "source": [
    "import numpy as np\n",
    "import pandas as pd\n",
    "from fractions import Fraction\n",
    "import pprint\n",
    "import pprint\n"
   ]
  },
  {
   "cell_type": "code",
   "execution_count": 38,
   "id": "ec7b683d-ded8-453a-87c7-f954875069e0",
   "metadata": {},
   "outputs": [],
   "source": [
    "# X = np.array(\n",
    "#     [['youth', 'high', 'no', 'fair'],\n",
    "#     ['youth', 'high', 'no', 'excellent'],\n",
    "#     ['middle_aged', 'high', 'no', 'fair'],\n",
    "#     ['senior', 'medium', 'no', 'fair'],\n",
    "#     ['senior', 'low', 'yes', 'fair'],\n",
    "#     ['senior', 'low', 'yes', 'excellent'],\n",
    "#     ['middle_aged', 'low', 'yes', 'excellent'],\n",
    "#     ['youth', 'medium', 'no', 'fair'],\n",
    "#     ['youth', 'low', 'yes', 'fair'],\n",
    "#     ['senior', 'medium', 'yes', 'fair'],\n",
    "#     ['youth', 'medium', 'yes', 'excellent'],\n",
    "#     ['middle_aged', 'medium', 'no', 'excellent'],\n",
    "#     ['middle_aged', 'high', 'yes', 'fair'],\n",
    "#     ['senior', 'medium', 'no', 'excellent']]\n",
    "# )\n",
    "\n",
    "# Y = np.array(['no', 'no', 'yes', 'yes', 'yes', 'no', 'yes', 'no', 'yes', 'yes', 'yes', 'yes', 'yes', 'no'])\n",
    "# column_labels = ['age', 'income', 'student', 'credit_rating']\n",
    "\n",
    "X = [\n",
    "    ['Sunny', 'Hot', 'High', 'Weak'],\n",
    "    ['Sunny', 'Warm', 'Normal', 'Weak'],\n",
    "    ['Overcast', 'Cold', 'Normal', 'Strong'],\n",
    "    ['Sunny', 'Warm', 'Normal', 'Strong'],\n",
    "    ['Rainy', 'Warm', 'High', 'Weak'],\n",
    "    ['Overcast', 'Hot', 'Normal', 'Strong'],\n",
    "    ['Rainy', 'Warm', 'High', 'Strong'],\n",
    "    ['Sunny', 'Cold', 'High', 'Weak'],\n",
    "    ['Rainy', 'Cold', 'High', 'Weak'],\n",
    "    ['Overcast', 'Hot', 'Normal', 'Strong'],\n",
    "    ['Rainy', 'Cold', 'Normal', 'Weak'],\n",
    "    ['Sunny', 'Hot', 'High', 'Weak']\n",
    "]\n",
    "\n",
    "Y = np.array(['No', 'Yes', 'Yes', 'No', 'Yes', 'No', 'No', 'Yes', 'Yes', 'Yes', 'Yes', 'No'])\n",
    "column_labels = ['Outlook', 'Temperature', 'Humidity', 'Wind']\n",
    "\n",
    "\n",
    "X_l = X[:]\n",
    "X_learn = pd.DataFrame(X_l, columns=column_labels)\n",
    "Y_learn = Y[:]\n",
    "\n",
    "\n",
    "X_t = X[-4:]\n",
    "X_test = pd.DataFrame(X_t, columns=column_labels)\n",
    "Y_test = Y[-4:]"
   ]
  },
  {
   "cell_type": "code",
   "execution_count": 58,
   "id": "a855f378-e9b6-42d4-9bae-31135e2eae12",
   "metadata": {},
   "outputs": [],
   "source": [
    "def calculate_probabilities(X_f, Y):\n",
    "    probabilities = {}\n",
    "    for y_class in np.unique(Y):\n",
    "        y_num = Y[Y == y_class].size\n",
    "        probabilities[str(y_class)] = Fraction(y_num, Y.size)\n",
    "        print(y_class, y_num)\n",
    "        for column in X_f.columns:\n",
    "            probabilities[column] = probabilities[column] if column in probabilities else {}\n",
    "            for x_class in np.unique(X_f[column]):\n",
    "                probabilities[column][x_class] = probabilities[column][x_class] if x_class in probabilities[column] else {}\n",
    "                probabilities[column][x_class][str(y_class)] = Fraction(Y[(Y == y_class) & (X_f[column] == x_class)].size, y_num)\n",
    "\n",
    "    return probabilities"
   ]
  },
  {
   "cell_type": "code",
   "execution_count": 59,
   "id": "e45a2e7f-d472-4ea8-b9ca-e03e2c204129",
   "metadata": {},
   "outputs": [
    {
     "name": "stdout",
     "output_type": "stream",
     "text": [
      "No 5\n",
      "Yes 7\n",
      "{'Humidity': {'High': {'No': Fraction(3, 5), 'Yes': Fraction(3, 7)},\n",
      "              'Normal': {'No': Fraction(2, 5), 'Yes': Fraction(4, 7)}},\n",
      " 'No': Fraction(5, 12),\n",
      " 'Outlook': {'Overcast': {'No': Fraction(1, 5), 'Yes': Fraction(2, 7)},\n",
      "             'Rainy': {'No': Fraction(1, 5), 'Yes': Fraction(3, 7)},\n",
      "             'Sunny': {'No': Fraction(3, 5), 'Yes': Fraction(2, 7)}},\n",
      " 'Temperature': {'Cold': {'No': Fraction(0, 1), 'Yes': Fraction(4, 7)},\n",
      "                 'Hot': {'No': Fraction(3, 5), 'Yes': Fraction(1, 7)},\n",
      "                 'Warm': {'No': Fraction(2, 5), 'Yes': Fraction(2, 7)}},\n",
      " 'Wind': {'Strong': {'No': Fraction(3, 5), 'Yes': Fraction(2, 7)},\n",
      "          'Weak': {'No': Fraction(2, 5), 'Yes': Fraction(5, 7)}},\n",
      " 'Yes': Fraction(7, 12)}\n"
     ]
    }
   ],
   "source": [
    "probabilities = calculate_probabilities(X_learn, Y_learn)\n",
    "# pp = pprint.PrettyPrinter(depth=10)\n",
    "pprint.pprint(probabilities)"
   ]
  },
  {
   "cell_type": "code",
   "execution_count": 64,
   "id": "e873fcef-3a6e-4953-9e8d-d7695e138a3f",
   "metadata": {},
   "outputs": [],
   "source": [
    "def predict(probabilities, X_f, y_classes):\n",
    "    probability = 0\n",
    "    y_class = None\n",
    "    print('aaaaaaaaaa')\n",
    "    for y_c in y_classes:\n",
    "        current_p = probabilities[str(y_c)]\n",
    "        for x_column in X_f.columns:\n",
    "            current_p *= probabilities[x_column][X_f[x_column][0]][y_c]\n",
    "            print(current_p, y_c, probabilities[x_column][X_f[x_column][0]][y_c])\n",
    "        if current_p > probability:\n",
    "            probability = current_p\n",
    "            y_class = y_c\n",
    "    return y_class, float(probability)"
   ]
  },
  {
   "cell_type": "code",
   "execution_count": 65,
   "id": "614ce20b-91d2-4822-90f7-6d4a75be41d9",
   "metadata": {},
   "outputs": [
    {
     "name": "stdout",
     "output_type": "stream",
     "text": [
      "aaaaaaaaaa\n",
      "1/4 No 3/5\n",
      "3/20 No 3/5\n",
      "9/100 No 3/5\n",
      "9/250 No 2/5\n",
      "1/6 Yes 2/7\n",
      "1/42 Yes 1/7\n",
      "1/98 Yes 3/7\n",
      "5/686 Yes 5/7\n",
      "No\n",
      "0.036\n"
     ]
    }
   ],
   "source": [
    "X_1 = pd.DataFrame([['Sunny', 'Hot', 'High', 'Weak']], columns = column_labels)\n",
    "\n",
    "y_class, probability = predict(probabilities, X_1, np.unique(Y))\n",
    "print(y_class)\n",
    "print(probability)"
   ]
  }
 ],
 "metadata": {
  "kernelspec": {
   "display_name": "Python 3 (ipykernel)",
   "language": "python",
   "name": "python3"
  },
  "language_info": {
   "codemirror_mode": {
    "name": "ipython",
    "version": 3
   },
   "file_extension": ".py",
   "mimetype": "text/x-python",
   "name": "python",
   "nbconvert_exporter": "python",
   "pygments_lexer": "ipython3",
   "version": "3.12.5"
  }
 },
 "nbformat": 4,
 "nbformat_minor": 5
}
